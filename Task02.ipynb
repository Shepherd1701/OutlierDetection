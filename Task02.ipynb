{
 "cells": [
  {
   "cell_type": "markdown",
   "metadata": {},
   "source": [
    "## ⼆、基于统计学的⽅法"
   ]
  },
  {
   "cell_type": "code",
   "execution_count": 1,
   "metadata": {
    "ExecuteTime": {
     "end_time": "2021-01-15T09:59:06.827821Z",
     "start_time": "2021-01-15T09:58:57.027023Z"
    }
   },
   "outputs": [],
   "source": [
    "import numpy as np\n",
    "import seaborn as sns\n",
    "import matplotlib.pyplot as plt"
   ]
  },
  {
   "cell_type": "code",
   "execution_count": 2,
   "metadata": {
    "ExecuteTime": {
     "end_time": "2021-01-15T09:59:09.778359Z",
     "start_time": "2021-01-15T09:59:08.534553Z"
    }
   },
   "outputs": [
    {
     "data": {
      "text/plain": [
       "<matplotlib.axes._subplots.AxesSubplot at 0x162a54d1e80>"
      ]
     },
     "execution_count": 2,
     "metadata": {},
     "output_type": "execute_result"
    },
    {
     "data": {
      "image/png": "[encoded data removed]",
      "text/plain": [
       "<Figure size 432x288 with 1 Axes>"
      ]
     },
     "metadata": {
      "needs_background": "light"
     },
     "output_type": "display_data"
    }
   ],
   "source": [
    "data = np.random.randn(50000) * 20 + 20\n",
    "sns.boxplot(data=data)"
   ]
  },
  {
   "cell_type": "markdown",
   "metadata": {},
   "source": [
    "看了赵越大佬的分享，对常见的异常检测方法有了一定的了解，看pdf的时候也相对顺利；下面准备效仿knn，用非参统计的方法跑一下。"
   ]
  },
  {
   "cell_type": "code",
   "execution_count": 16,
   "metadata": {
    "ExecuteTime": {
     "end_time": "2021-01-15T10:29:20.911404Z",
     "start_time": "2021-01-15T10:29:20.878404Z"
    }
   },
   "outputs": [],
   "source": [
    "from pyod.utils.data import generate_data\n",
    "from pyod.models.hbos import HBOS\n",
    "from pyod.utils.data import evaluate_print\n",
    "from pyod.utils.example import visualize"
   ]
  },
  {
   "cell_type": "code",
   "execution_count": 9,
   "metadata": {
    "ExecuteTime": {
     "end_time": "2021-01-15T10:25:14.126059Z",
     "start_time": "2021-01-15T10:25:14.112075Z"
    }
   },
   "outputs": [],
   "source": [
    "# 训练一个kNN检测器\n",
    "clf_name = 'HBOS'\n",
    "clf = HBOS() # 初始化检测器clf"
   ]
  },
  {
   "cell_type": "code",
   "execution_count": 17,
   "metadata": {
    "ExecuteTime": {
     "end_time": "2021-01-15T10:30:13.955683Z",
     "start_time": "2021-01-15T10:30:13.938682Z"
    }
   },
   "outputs": [],
   "source": [
    "contamination = 0.1  # 异常样本在所有样本(训练集样本加测试集样本)中的比例\n",
    "n_train = 200\n",
    "n_test = 100"
   ]
  },
  {
   "cell_type": "code",
   "execution_count": 18,
   "metadata": {
    "ExecuteTime": {
     "end_time": "2021-01-15T10:31:19.155189Z",
     "start_time": "2021-01-15T10:31:19.106195Z"
    }
   },
   "outputs": [
    {
     "name": "stderr",
     "output_type": "stream",
     "text": [
      "C:\\Users\\shepherd\\anaconda3\\lib\\site-packages\\pyod\\utils\\data.py:185: FutureWarning: behaviour=\"old\" is deprecated and will be removed in version 0.8.0. Please use behaviour=\"new\", which makes the returned datasets in the order of X_train, X_test, y_train, y_test.\n",
      "  warn('behaviour=\"old\" is deprecated and will be removed '\n"
     ]
    },
    {
     "data": {
      "text/plain": [
       "((200, 2), (200,), (100, 2), (100,))"
      ]
     },
     "execution_count": 18,
     "metadata": {},
     "output_type": "execute_result"
    }
   ],
   "source": [
    "X_train, y_train, X_test, y_test = generate_data(n_train=n_train, n_test=n_test, n_features=2,\n",
    "                      contamination=contamination, random_state=42)\n",
    "X_train.shape, y_train.shape, X_test.shape, y_test.shape"
   ]
  },
  {
   "cell_type": "code",
   "execution_count": 23,
   "metadata": {
    "ExecuteTime": {
     "end_time": "2021-01-15T10:31:54.848199Z",
     "start_time": "2021-01-15T10:31:54.780219Z"
    }
   },
   "outputs": [
    {
     "data": {
      "text/plain": [
       "array([[ 6.43365854,  5.5091683 ],\n",
       "       [ 5.04469788,  7.70806466],\n",
       "       [ 5.92453568,  5.25921966],\n",
       "       [ 5.29399075,  5.67126197],\n",
       "       [ 5.61509076,  6.1309285 ],\n",
       "       [ 6.18590347,  6.09410578],\n",
       "       [ 7.16630941,  7.22719133],\n",
       "       [ 4.05470826,  6.48127032],\n",
       "       [ 5.79978164,  5.86930893],\n",
       "       [ 4.82256361,  7.18593123],\n",
       "       [ 5.98049594,  6.28356746],\n",
       "       [ 6.33258429,  6.66392412],\n",
       "       [ 5.76600157,  5.97620246],\n",
       "       [ 6.0758669 ,  6.53009041],\n",
       "       [ 5.88816972,  5.97352684],\n",
       "       [ 5.40257927,  5.37920689],\n",
       "       [ 6.75674297,  7.2607963 ],\n",
       "       [ 5.70636785,  6.29952894],\n",
       "       [ 5.04840502,  5.67376352],\n",
       "       [ 5.64370447,  7.21564822],\n",
       "       [ 6.25760622,  4.88869009],\n",
       "       [ 4.2626848 ,  5.16744774],\n",
       "       [ 6.13773065,  6.25856245],\n",
       "       [ 6.59485505,  4.53524592],\n",
       "       [ 6.45018449,  6.02033788],\n",
       "       [ 6.37739196,  6.52573284],\n",
       "       [ 7.86684582,  6.85415672],\n",
       "       [ 6.07689629,  6.33425195],\n",
       "       [ 5.23991937,  5.16427815],\n",
       "       [ 4.50406714,  4.90993249],\n",
       "       [ 6.50748068,  5.27685129],\n",
       "       [ 6.37966443,  7.0397259 ],\n",
       "       [ 6.16874974,  6.47616877],\n",
       "       [ 5.28513416,  5.9106849 ],\n",
       "       [ 7.17154382,  5.10364277],\n",
       "       [ 6.75767014,  7.3769711 ],\n",
       "       [ 6.36518303,  4.65670841],\n",
       "       [ 6.26067312,  5.93530415],\n",
       "       [ 6.37308642,  6.58708922],\n",
       "       [ 5.37815423,  5.32695638],\n",
       "       [ 5.87994278,  5.22992625],\n",
       "       [ 6.12002151,  5.90954168],\n",
       "       [ 8.10035196,  5.18244595],\n",
       "       [ 5.37628324,  6.33811282],\n",
       "       [ 6.69601983,  7.82416104],\n",
       "       [ 7.29434886,  6.65696254],\n",
       "       [ 6.23372735,  6.71510127],\n",
       "       [ 5.51324196,  5.74784411],\n",
       "       [ 4.81770294,  5.81748427],\n",
       "       [ 6.76774781,  5.83276127],\n",
       "       [ 5.38266749,  5.71306146],\n",
       "       [ 6.57748752,  5.79601671],\n",
       "       [ 6.6778487 ,  4.95416256],\n",
       "       [ 5.30589439,  5.59593025],\n",
       "       [ 4.95525802,  8.34769811],\n",
       "       [ 5.1256809 ,  6.72965957],\n",
       "       [ 5.46878802,  5.59023239],\n",
       "       [ 6.24031789,  4.83677006],\n",
       "       [ 5.47143771,  5.88318164],\n",
       "       [ 5.32526506,  5.34402937],\n",
       "       [ 6.86671152,  6.80152024],\n",
       "       [ 5.64767261,  5.93287473],\n",
       "       [ 6.98657349,  4.86232177],\n",
       "       [ 6.2695876 ,  7.57480541],\n",
       "       [ 7.56719969,  4.45283741],\n",
       "       [ 5.39177221,  6.13451311],\n",
       "       [ 4.94574631,  5.46704453],\n",
       "       [ 5.89050452,  7.11761419],\n",
       "       [ 5.96378943,  6.17301636],\n",
       "       [ 6.40867995,  6.43345559],\n",
       "       [ 6.02241053,  5.04527161],\n",
       "       [ 6.62979801,  6.3441314 ],\n",
       "       [ 5.1252929 ,  5.45583517],\n",
       "       [ 6.70782866,  6.48289882],\n",
       "       [ 5.42553139,  5.78471622],\n",
       "       [ 5.8855827 ,  6.49208703],\n",
       "       [ 6.9960839 ,  6.05235803],\n",
       "       [ 6.93249336,  6.69650782],\n",
       "       [ 6.16401482,  4.84875998],\n",
       "       [ 5.18035641,  6.59117127],\n",
       "       [ 4.63577913,  6.09489046],\n",
       "       [ 6.79793028,  6.12156219],\n",
       "       [ 5.52035984,  5.32478866],\n",
       "       [ 6.65091688,  6.37620684],\n",
       "       [ 5.77231001,  6.84961654],\n",
       "       [ 6.68109995,  7.42648049],\n",
       "       [ 6.45212239,  5.86880383],\n",
       "       [ 5.88595858,  4.45709711],\n",
       "       [ 6.12015706,  5.98746666],\n",
       "       [ 4.93920876,  5.97983203],\n",
       "       [ 7.07123439,  5.41416667],\n",
       "       [ 5.23444277,  6.88122775],\n",
       "       [ 6.5058339 ,  8.44135502],\n",
       "       [ 4.94838362,  6.57453979],\n",
       "       [ 6.25193658,  6.04727937],\n",
       "       [ 6.72617263,  5.97629275],\n",
       "       [ 4.45565673,  5.32419595],\n",
       "       [ 7.08819433,  6.93474343],\n",
       "       [ 5.70242141,  6.40164031],\n",
       "       [ 8.22031026,  5.97512719],\n",
       "       [ 5.9907618 ,  6.15201066],\n",
       "       [ 6.48408922,  5.72173631],\n",
       "       [ 6.48341422,  4.44939332],\n",
       "       [ 6.26829247,  6.04037945],\n",
       "       [ 5.82656871,  5.62096183],\n",
       "       [ 5.51399854,  5.35118195],\n",
       "       [ 4.15124093,  5.78624384],\n",
       "       [ 6.87437013,  5.73249529],\n",
       "       [ 6.50652956,  5.13849337],\n",
       "       [ 4.95865007,  5.40123516],\n",
       "       [ 5.18211977,  5.05647505],\n",
       "       [ 6.35871413,  7.41876863],\n",
       "       [ 5.46808399,  4.65070221],\n",
       "       [ 6.52382411,  4.85480737],\n",
       "       [ 5.0562948 ,  6.39478031],\n",
       "       [ 5.86815848,  5.45194826],\n",
       "       [ 6.05451306,  5.67347886],\n",
       "       [ 7.50699548,  5.46101667],\n",
       "       [ 5.27151424,  5.63709148],\n",
       "       [ 5.67080487,  6.47505142],\n",
       "       [ 4.41166301,  6.33977394],\n",
       "       [ 5.56830159,  6.61954974],\n",
       "       [ 5.96200209,  6.41368113],\n",
       "       [ 5.68784023,  6.34934185],\n",
       "       [ 7.32692793,  5.41042717],\n",
       "       [ 5.9145078 ,  5.61222081],\n",
       "       [ 7.27047146,  5.65391292],\n",
       "       [ 5.41564647,  5.5387993 ],\n",
       "       [ 5.89175955,  5.36714564],\n",
       "       [ 5.7061453 ,  6.12537524],\n",
       "       [ 5.90790499,  6.66332334],\n",
       "       [ 5.7453006 ,  5.83680954],\n",
       "       [ 6.2161834 ,  7.79032977],\n",
       "       [ 5.37185362,  7.53417316],\n",
       "       [ 5.05604952,  6.18261376],\n",
       "       [ 5.72932484,  5.34978638],\n",
       "       [ 6.55755623,  6.47844335],\n",
       "       [ 5.61618393,  4.33010928],\n",
       "       [ 5.66499409,  6.11102126],\n",
       "       [ 6.00144643,  6.60289088],\n",
       "       [ 7.54208336,  6.33008297],\n",
       "       [ 6.45281968,  6.1181813 ],\n",
       "       [ 6.93506794,  6.42381435],\n",
       "       [ 6.59744398,  7.44272083],\n",
       "       [ 6.18102974,  5.78389595],\n",
       "       [ 6.35593494,  6.90620209],\n",
       "       [ 6.39990939,  6.84590486],\n",
       "       [ 5.46646382,  5.30766551],\n",
       "       [ 5.56530907,  4.98920813],\n",
       "       [ 6.08796866,  5.65703627],\n",
       "       [ 6.98114644,  4.97019307],\n",
       "       [ 7.24011768,  5.21745055],\n",
       "       [ 5.01245767,  5.34230512],\n",
       "       [ 7.55622975,  5.96803038],\n",
       "       [ 6.42224758,  5.85333843],\n",
       "       [ 5.92815842,  5.59653891],\n",
       "       [ 6.04047049,  6.39446468],\n",
       "       [ 7.33852079,  4.50503049],\n",
       "       [ 7.28469844,  6.42107114],\n",
       "       [ 5.70669337,  5.56316698],\n",
       "       [ 6.83237619,  6.18262023],\n",
       "       [ 4.77651712,  6.28956362],\n",
       "       [ 6.91268549,  6.68418394],\n",
       "       [ 5.5000539 ,  4.92969149],\n",
       "       [ 5.74002241,  8.59519302],\n",
       "       [ 4.76779692,  5.32788253],\n",
       "       [ 6.31267026,  5.90068576],\n",
       "       [ 5.84032799,  7.61480203],\n",
       "       [ 5.31948852,  5.98861065],\n",
       "       [ 6.16102986,  5.3581879 ],\n",
       "       [ 4.85101751,  6.21479241],\n",
       "       [ 7.44647706,  6.32267225],\n",
       "       [ 6.07183676,  6.06598108],\n",
       "       [ 5.79390075,  6.94387802],\n",
       "       [ 5.59688806,  4.91790525],\n",
       "       [ 4.738563  ,  6.06301309],\n",
       "       [ 6.84594784,  6.1894047 ],\n",
       "       [ 5.74688475,  6.36562664],\n",
       "       [ 6.14851235,  6.65892242],\n",
       "       [ 7.05794387,  5.23883285],\n",
       "       [-0.21999614, -1.46414892],\n",
       "       [ 2.46101237, -3.01531015],\n",
       "       [-2.03696965, -0.78657787],\n",
       "       [-2.95581391, -1.13757496],\n",
       "       [ 0.8576763 ,  2.89168633],\n",
       "       [ 3.20633824,  3.87348422],\n",
       "       [ 2.93053988,  2.17247313],\n",
       "       [-3.14992234, -1.19732529],\n",
       "       [-0.26742131, -5.00530414],\n",
       "       [ 0.34044146, -0.76397002],\n",
       "       [ 3.62531099,  5.73480803],\n",
       "       [ 0.67206046, -2.12776334],\n",
       "       [-5.4791906 ,  5.09571996],\n",
       "       [ 5.02938858, -2.96411798],\n",
       "       [ 2.34493348, -5.09478543],\n",
       "       [-4.00541482, -3.39829072],\n",
       "       [-2.46607264,  5.9499765 ],\n",
       "       [ 2.36310067, -1.38957802],\n",
       "       [ 2.84520847,  4.9830521 ],\n",
       "       [ 5.50442889, -5.30563323]])"
      ]
     },
     "execution_count": 23,
     "metadata": {},
     "output_type": "execute_result"
    }
   ],
   "source": [
    "X_train"
   ]
  },
  {
   "cell_type": "code",
   "execution_count": 24,
   "metadata": {
    "ExecuteTime": {
     "end_time": "2021-01-15T10:32:13.625826Z",
     "start_time": "2021-01-15T10:32:13.592839Z"
    }
   },
   "outputs": [
    {
     "data": {
      "text/plain": [
       "HBOS(alpha=0.1, contamination=0.1, n_bins=10, tol=0.5)"
      ]
     },
     "execution_count": 24,
     "metadata": {},
     "output_type": "execute_result"
    }
   ],
   "source": [
    " clf.fit(X_train)"
   ]
  },
  {
   "cell_type": "code",
   "execution_count": 26,
   "metadata": {
    "ExecuteTime": {
     "end_time": "2021-01-15T10:32:36.515235Z",
     "start_time": "2021-01-15T10:32:36.488217Z"
    }
   },
   "outputs": [
    {
     "data": {
      "text/plain": [
       "array([0, 1, 0, 0, 0, 0, 1, 0, 0, 0, 0, 0, 0, 0, 0, 0, 0, 0, 0, 0, 0, 0,\n",
       "       0, 0, 0, 0, 0, 0, 0, 0, 0, 0, 0, 0, 0, 0, 0, 0, 0, 0, 0, 0, 0, 0,\n",
       "       0, 0, 0, 0, 0, 0, 0, 0, 0, 0, 1, 0, 0, 0, 0, 0, 0, 0, 0, 0, 0, 0,\n",
       "       0, 0, 0, 0, 0, 0, 0, 0, 0, 0, 0, 0, 0, 0, 0, 0, 0, 0, 0, 0, 0, 0,\n",
       "       0, 0, 0, 0, 0, 0, 0, 0, 0, 0, 0, 0, 0, 0, 0, 0, 0, 0, 0, 0, 0, 0,\n",
       "       0, 0, 0, 0, 0, 0, 0, 0, 0, 0, 0, 0, 0, 0, 0, 0, 0, 0, 0, 0, 0, 0,\n",
       "       0, 1, 0, 0, 0, 0, 0, 0, 0, 0, 0, 0, 0, 0, 0, 0, 0, 0, 0, 0, 0, 0,\n",
       "       0, 0, 0, 0, 0, 0, 0, 0, 0, 0, 0, 0, 0, 0, 0, 0, 0, 0, 0, 0, 0, 0,\n",
       "       0, 0, 0, 0, 1, 1, 1, 1, 1, 1, 1, 1, 1, 1, 0, 1, 1, 1, 1, 1, 0, 1,\n",
       "       0, 0])"
      ]
     },
     "execution_count": 26,
     "metadata": {},
     "output_type": "execute_result"
    }
   ],
   "source": [
    "# 训练集\n",
    "y_train_pred = clf.labels_\n",
    "y_train_scores = clf.decision_scores_\n",
    "y_train_pred"
   ]
  },
  {
   "cell_type": "code",
   "execution_count": 29,
   "metadata": {
    "ExecuteTime": {
     "end_time": "2021-01-15T10:33:20.542972Z",
     "start_time": "2021-01-15T10:33:20.517975Z"
    }
   },
   "outputs": [
    {
     "data": {
      "text/plain": [
       "array([0, 0, 1, 0, 0, 0, 0, 0, 0, 0, 0, 0, 0, 0, 0, 0, 0, 0, 0, 0, 0, 0,\n",
       "       0, 0, 0, 0, 0, 0, 0, 0, 0, 0, 1, 0, 0, 0, 0, 0, 0, 0, 0, 0, 0, 0,\n",
       "       0, 0, 0, 0, 1, 0, 0, 0, 0, 0, 0, 0, 0, 0, 0, 0, 0, 0, 0, 0, 0, 0,\n",
       "       0, 0, 1, 0, 0, 0, 0, 0, 0, 0, 0, 1, 0, 0, 0, 0, 0, 0, 1, 1, 0, 0,\n",
       "       0, 0, 1, 0, 1, 1, 1, 1, 1, 1, 1, 1])"
      ]
     },
     "execution_count": 29,
     "metadata": {},
     "output_type": "execute_result"
    }
   ],
   "source": [
    "# 测试集\n",
    "y_test_pred = clf.predict(X_test)\n",
    "y_test_scores = clf.decision_function(X_test)\n",
    "y_test_pred"
   ]
  },
  {
   "cell_type": "code",
   "execution_count": 30,
   "metadata": {
    "ExecuteTime": {
     "end_time": "2021-01-15T10:33:25.524812Z",
     "start_time": "2021-01-15T10:33:25.495816Z"
    }
   },
   "outputs": [
    {
     "data": {
      "text/plain": [
       "array([3.33017782, 3.33017782, 4.54688159, 3.33017782, 3.33017782,\n",
       "       2.23013136, 2.47701056, 3.08329861, 2.23013136, 2.23013136,\n",
       "       3.08329861, 3.78188091, 2.23013136, 3.78188091, 3.78188091,\n",
       "       3.08329861, 3.69371434, 2.23013136, 3.5350017 , 2.23013136,\n",
       "       3.33017782, 3.33017782, 2.47701056, 4.52951172, 2.23013136,\n",
       "       3.69371434, 3.78188091, 3.5350017 , 2.23013136, 2.23013136,\n",
       "       3.69371434, 2.47701056, 4.54688159, 2.23013136, 3.5350017 ,\n",
       "       2.23013136, 2.23013136, 3.08329861, 2.47701056, 4.24930731,\n",
       "       3.78188091, 3.78188091, 2.47701056, 2.47701056, 2.23013136,\n",
       "       3.08329861, 2.23013136, 2.23013136, 4.99858468, 2.47701056,\n",
       "       2.47701056, 2.47701056, 3.5350017 , 3.08329861, 2.23013136,\n",
       "       2.23013136, 2.47701056, 3.5350017 , 2.47701056, 2.23013136,\n",
       "       3.33017782, 2.47701056, 2.47701056, 3.08329861, 4.24930731,\n",
       "       3.78188091, 3.78188091, 3.69371434, 4.99858468, 3.33017782,\n",
       "       2.23013136, 2.47701056, 2.23013136, 4.24930731, 2.23013136,\n",
       "       3.5350017 , 2.23013136, 4.54688159, 2.23013136, 2.47701056,\n",
       "       3.5350017 , 2.23013136, 2.23013136, 2.47701056, 5.10247456,\n",
       "       4.99858468, 2.47701056, 3.78188091, 2.23013136, 2.23013136,\n",
       "       4.66969391, 4.20169189, 4.66969391, 6.34611846, 6.30180847,\n",
       "       6.30180847, 6.25419304, 6.49395557, 4.9640984 , 6.39373388])"
      ]
     },
     "execution_count": 30,
     "metadata": {},
     "output_type": "execute_result"
    }
   ],
   "source": [
    "y_test_scores"
   ]
  },
  {
   "cell_type": "code",
   "execution_count": 31,
   "metadata": {
    "ExecuteTime": {
     "end_time": "2021-01-15T10:33:41.178755Z",
     "start_time": "2021-01-15T10:33:41.128761Z"
    }
   },
   "outputs": [
    {
     "name": "stdout",
     "output_type": "stream",
     "text": [
      "\n",
      "On Training Data:\n",
      "HBOS ROC:0.9947, precision @ rank n:0.8\n"
     ]
    }
   ],
   "source": [
    "print(\"\\nOn Training Data:\")\n",
    "evaluate_print(clf_name, y_train, y_train_scores)    "
   ]
  },
  {
   "cell_type": "code",
   "execution_count": 32,
   "metadata": {
    "ExecuteTime": {
     "end_time": "2021-01-15T10:33:46.830227Z",
     "start_time": "2021-01-15T10:33:46.784233Z"
    }
   },
   "outputs": [
    {
     "name": "stdout",
     "output_type": "stream",
     "text": [
      "\n",
      "On Test Data:\n",
      "HBOS ROC:0.9744, precision @ rank n:0.6\n"
     ]
    }
   ],
   "source": [
    "print(\"\\nOn Test Data:\")\n",
    "evaluate_print(clf_name, y_test, y_test_scores)"
   ]
  },
  {
   "cell_type": "code",
   "execution_count": 33,
   "metadata": {
    "ExecuteTime": {
     "end_time": "2021-01-15T10:33:57.956169Z",
     "start_time": "2021-01-15T10:33:56.137455Z"
    }
   },
   "outputs": [
    {
     "data": {
      "image/png": "[encoded data removed]",
      "text/plain": [
       "<Figure size 864x720 with 4 Axes>"
      ]
     },
     "metadata": {},
     "output_type": "display_data"
    }
   ],
   "source": [
    "visualize(clf_name, X_train, y_train, X_test, y_test, y_train_pred,y_test_pred, show_figure=True, save_figure=False)"
   ]
  },
  {
   "cell_type": "code",
   "execution_count": null,
   "metadata": {},
   "outputs": [],
   "source": [
    "# 从结果来看，再该数据集上，HBOS的准确度略低于kNN"
   ]
  }
 ],
 "metadata": {
  "hide_input": false,
  "kernelspec": {
   "display_name": "Python 3",
   "language": "python",
   "name": "python3"
  },
  "language_info": {
   "codemirror_mode": {
    "name": "ipython",
    "version": 3
   },
   "file_extension": ".py",
   "mimetype": "text/x-python",
   "name": "python",
   "nbconvert_exporter": "python",
   "pygments_lexer": "ipython3",
   "version": "3.8.3"
  },
  "varInspector": {
   "cols": {
    "lenName": 16,
    "lenType": 16,
    "lenVar": 40
   },
   "kernels_config": {
    "python": {
     "delete_cmd_postfix": "",
     "delete_cmd_prefix": "del ",
     "library": "var_list.py",
     "varRefreshCmd": "print(var_dic_list())"
    },
    "r": {
     "delete_cmd_postfix": ") ",
     "delete_cmd_prefix": "rm(",
     "library": "var_list.r",
     "varRefreshCmd": "cat(var_dic_list()) "
    }
   },
   "types_to_exclude": [
    "module",
    "function",
    "builtin_function_or_method",
    "instance",
    "_Feature"
   ],
   "window_display": false
  }
 },
 "nbformat": 4,
 "nbformat_minor": 4
}
