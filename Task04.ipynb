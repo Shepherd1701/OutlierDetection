{
 "cells": [
  {
   "cell_type": "markdown",
   "metadata": {},
   "source": [
    "## 四、基于相似度的方法"
   ]
  },
  {
   "cell_type": "code",
   "execution_count": 1,
   "metadata": {
    "ExecuteTime": {
     "end_time": "2021-01-23T09:40:15.873135Z",
     "start_time": "2021-01-23T09:40:07.519169Z"
    }
   },
   "outputs": [],
   "source": [
    "import numpy as np\n",
    "import pandas as pd\n",
    "import matplotlib.pyplot as plt\n",
    "from sklearn.neighbors import LocalOutlierFactor\n",
    "\n",
    "plt.rcParams['font.sans-serif'] = ['SimHei']\n",
    "plt.rcParams['axes.unicode_minus']=False\n",
    "pd.set_option('display.max_columns', None)\n",
    "pd.set_option('display.max_rows', None)"
   ]
  },
  {
   "cell_type": "code",
   "execution_count": 2,
   "metadata": {
    "ExecuteTime": {
     "end_time": "2021-01-23T09:40:16.009784Z",
     "start_time": "2021-01-23T09:40:15.936345Z"
    }
   },
   "outputs": [],
   "source": [
    "np.random.seed(61)\n",
    "\n",
    "# 构造两个数据点的集群\n",
    "X_inliers1 = 0.2 * np.random.randn(100, 2)\n",
    "X_inliers2 = 0.5 * np.random.randn(100, 2)\n",
    "X_inliers = np.r_[X_inliers1 + 2, X_inliers2 - 2]"
   ]
  },
  {
   "cell_type": "code",
   "execution_count": 3,
   "metadata": {
    "ExecuteTime": {
     "end_time": "2021-01-23T09:40:16.303741Z",
     "start_time": "2021-01-23T09:40:16.253747Z"
    }
   },
   "outputs": [
    {
     "data": {
      "text/plain": [
       "array([[ 1.7009103 ,  2.62723641],\n",
       "       [ 3.0283787 ,  0.63705072],\n",
       "       [ 2.20120906,  2.67284436],\n",
       "       [ 2.13006573,  3.59838412],\n",
       "       [ 0.09545748, -2.75578673],\n",
       "       [-1.08227979,  3.78988275],\n",
       "       [ 2.8358146 ,  3.70532146],\n",
       "       [ 2.12338142,  2.53235092],\n",
       "       [-2.75879005,  0.50836407],\n",
       "       [-1.81536606,  0.50073075],\n",
       "       [ 2.5785346 , -0.99128854],\n",
       "       [ 3.2089958 ,  1.29059671],\n",
       "       [-2.63343897, -3.62811811],\n",
       "       [ 1.94057451, -0.57387495],\n",
       "       [-2.11236443,  1.18621921],\n",
       "       [ 1.26068333,  1.96438381],\n",
       "       [ 0.09243366, -2.72103456],\n",
       "       [-3.14878511,  3.65961189],\n",
       "       [-1.12421921, -1.59313047],\n",
       "       [-0.62874079, -1.69632662]])"
      ]
     },
     "execution_count": 3,
     "metadata": {},
     "output_type": "execute_result"
    }
   ],
   "source": [
    "# 构造⼀些离群的点\n",
    "X_outliers = np.random.uniform(low=-4, high=4, size=(20, 2))\n",
    "X_outliers"
   ]
  },
  {
   "cell_type": "code",
   "execution_count": 4,
   "metadata": {
    "ExecuteTime": {
     "end_time": "2021-01-23T09:40:16.820723Z",
     "start_time": "2021-01-23T09:40:16.570407Z"
    }
   },
   "outputs": [
    {
     "data": {
      "text/plain": [
       "20"
      ]
     },
     "execution_count": 4,
     "metadata": {},
     "output_type": "execute_result"
    }
   ],
   "source": [
    "# 拼成训练集\n",
    "X = np.r_[X_inliers, X_outliers]\n",
    "\n",
    "n_outliers = len(X_outliers)\n",
    "n_outliers"
   ]
  },
  {
   "cell_type": "code",
   "execution_count": 5,
   "metadata": {
    "ExecuteTime": {
     "end_time": "2021-01-23T09:40:17.233658Z",
     "start_time": "2021-01-23T09:40:17.216659Z"
    }
   },
   "outputs": [],
   "source": [
    "ground_truth = np.ones(len(X), dtype=int)\n",
    "# 打标签，群内点构造离群值为1，离群点构造离群值为-1\n",
    "ground_truth[-n_outliers:] = -1"
   ]
  },
  {
   "cell_type": "code",
   "execution_count": 6,
   "metadata": {
    "ExecuteTime": {
     "end_time": "2021-01-23T09:40:18.460698Z",
     "start_time": "2021-01-23T09:40:17.575601Z"
    }
   },
   "outputs": [
    {
     "data": {
      "image/png": "[encoded data removed]",
      "text/plain": [
       "<Figure size 432x288 with 1 Axes>"
      ]
     },
     "metadata": {
      "needs_background": "light"
     },
     "output_type": "display_data"
    }
   ],
   "source": [
    "plt.title('构造数据集 (LOF)')\n",
    "plt.scatter(X[:-n_outliers, 0], X[:-n_outliers, 1], color='b', s=5, label='集群点')\n",
    "plt.scatter(X[-n_outliers:, 0], X[-n_outliers:, 1], color='orange', s=5, label='离群点')\n",
    "\n",
    "plt.axis('tight')\n",
    "plt.xlim((-5, 5))\n",
    "plt.ylim((-5, 5))\n",
    "legend = plt.legend(loc='upper left')\n",
    "legend.legendHandles[0]._sizes = [10]\n",
    "legend.legendHandles[1]._sizes = [20]\n",
    "\n",
    "plt.show()"
   ]
  },
  {
   "cell_type": "code",
   "execution_count": 7,
   "metadata": {
    "ExecuteTime": {
     "end_time": "2021-01-23T09:40:21.518030Z",
     "start_time": "2021-01-23T09:40:21.473045Z"
    }
   },
   "outputs": [
    {
     "data": {
      "text/plain": [
       "array([ 1,  1,  1,  1,  1,  1,  1,  1,  1,  1,  1,  1,  1,  1,  1, -1,  1,\n",
       "        1,  1,  1,  1,  1,  1,  1,  1,  1,  1,  1,  1,  1, -1,  1,  1,  1,\n",
       "        1,  1,  1,  1,  1,  1,  1,  1,  1,  1,  1,  1,  1,  1,  1,  1,  1,\n",
       "       -1,  1,  1,  1,  1,  1,  1,  1,  1,  1,  1,  1,  1,  1,  1,  1,  1,\n",
       "        1,  1,  1,  1,  1,  1,  1,  1,  1,  1,  1,  1,  1,  1,  1,  1,  1,\n",
       "        1,  1,  1,  1,  1,  1,  1,  1,  1,  1,  1,  1,  1,  1,  1,  1,  1,\n",
       "        1,  1,  1, -1,  1,  1,  1,  1,  1,  1,  1,  1,  1,  1,  1,  1,  1,\n",
       "        1,  1,  1,  1,  1,  1,  1,  1,  1,  1,  1,  1,  1,  1,  1,  1,  1,\n",
       "        1,  1,  1,  1,  1,  1,  1,  1,  1,  1,  1,  1,  1,  1,  1,  1,  1,\n",
       "        1,  1,  1,  1,  1,  1,  1,  1,  1,  1,  1,  1,  1,  1,  1,  1,  1,\n",
       "        1,  1,  1,  1,  1,  1,  1,  1,  1,  1,  1,  1,  1,  1,  1,  1,  1,\n",
       "        1,  1,  1,  1,  1,  1,  1,  1,  1,  1,  1,  1,  1, -1, -1, -1, -1,\n",
       "       -1, -1, -1, -1, -1, -1, -1, -1, -1, -1, -1, -1, -1, -1,  1,  1])"
      ]
     },
     "execution_count": 7,
     "metadata": {},
     "output_type": "execute_result"
    }
   ],
   "source": [
    "# 训练模型（找出每个数据的实际离群值）\n",
    "clf = LocalOutlierFactor(n_neighbors=20, contamination=0.1)\n",
    "\n",
    "# 对单个数据集进⾏⽆监督检测时，以1和-1分别表⽰⾮离群点与离群点\n",
    "y_pred = clf.fit_predict(X)\n",
    "y_pred"
   ]
  },
  {
   "cell_type": "code",
   "execution_count": 8,
   "metadata": {
    "ExecuteTime": {
     "end_time": "2021-01-23T09:40:23.925369Z",
     "start_time": "2021-01-23T09:40:23.852381Z"
    }
   },
   "outputs": [
    {
     "data": {
      "text/plain": [
       "array([[ 1.91370089,  2.08787511,  0.        ],\n",
       "       [ 1.99974764,  2.21222457,  0.        ],\n",
       "       [ 2.04067296,  2.13311455,  0.        ],\n",
       "       [ 1.79127696,  1.74321778,  0.        ],\n",
       "       [ 1.99169322,  1.77040453,  0.        ],\n",
       "       [ 1.97483141,  2.20402971,  0.        ],\n",
       "       [ 2.20592414,  1.98653431,  0.        ],\n",
       "       [ 1.88005036,  2.04803586,  0.        ],\n",
       "       [ 1.55899342,  1.88695449,  0.        ],\n",
       "       [ 2.30849877,  2.13623491,  0.        ],\n",
       "       [ 2.0252911 ,  1.72394487,  0.        ],\n",
       "       [ 1.85198658,  1.91437319,  0.        ],\n",
       "       [ 2.02312152,  2.10036722,  0.        ],\n",
       "       [ 1.98205648,  2.17458364,  0.        ],\n",
       "       [ 1.87627235,  1.60746642,  0.        ],\n",
       "       [ 2.29014489,  1.56135399,  1.        ],\n",
       "       [ 1.83198237,  2.20203141,  0.        ],\n",
       "       [ 1.87690088,  1.84219018,  0.        ],\n",
       "       [ 1.93050818,  2.34493562,  0.        ],\n",
       "       [ 2.09172428,  1.78821337,  0.        ],\n",
       "       [ 1.82482177,  1.81718903,  0.        ],\n",
       "       [ 1.59055001,  1.96381308,  0.        ],\n",
       "       [ 1.84230943,  1.95012396,  0.        ],\n",
       "       [ 1.92170248,  1.82240087,  0.        ],\n",
       "       [ 2.16052647,  2.3683974 ,  0.        ],\n",
       "       [ 1.9180543 ,  2.33758217,  0.        ],\n",
       "       [ 1.67349633,  1.97212827,  0.        ],\n",
       "       [ 2.01059731,  1.98801829,  0.        ],\n",
       "       [ 1.747966  ,  2.25516382,  0.        ],\n",
       "       [ 2.09987402,  2.10943278,  0.        ],\n",
       "       [ 1.47665282,  1.80012028,  1.        ],\n",
       "       [ 1.76898575,  2.11384469,  0.        ],\n",
       "       [ 2.12856749,  2.04983158,  0.        ],\n",
       "       [ 1.68281854,  2.28621352,  0.        ],\n",
       "       [ 1.89406137,  2.2277095 ,  0.        ],\n",
       "       [ 2.06404822,  2.13807415,  0.        ],\n",
       "       [ 2.15552379,  2.04404416,  0.        ],\n",
       "       [ 1.80012008,  2.06704012,  0.        ],\n",
       "       [ 2.02695413,  2.17867119,  0.        ],\n",
       "       [ 1.74108774,  2.01346425,  0.        ],\n",
       "       [ 1.89034735,  2.36613385,  0.        ],\n",
       "       [ 1.96481177,  1.6950222 ,  0.        ],\n",
       "       [ 1.95272725,  2.19747211,  0.        ],\n",
       "       [ 2.15554197,  1.9218266 ,  0.        ],\n",
       "       [ 1.87289657,  1.77943928,  0.        ],\n",
       "       [ 2.11747306,  2.12464526,  0.        ],\n",
       "       [ 2.16276441,  1.50548978,  0.        ],\n",
       "       [ 1.9881079 ,  2.0360286 ,  0.        ],\n",
       "       [ 2.37101291,  2.08077164,  0.        ],\n",
       "       [ 1.98328164,  2.07626055,  0.        ],\n",
       "       [ 2.08058235,  2.36123374,  0.        ],\n",
       "       [ 1.8473395 ,  1.42379912,  1.        ],\n",
       "       [ 1.77972159,  2.13246054,  0.        ],\n",
       "       [ 2.01661295,  1.98162893,  0.        ],\n",
       "       [ 2.0770562 ,  2.13139087,  0.        ],\n",
       "       [ 2.00396575,  2.07104526,  0.        ],\n",
       "       [ 1.75598473,  2.0143543 ,  0.        ],\n",
       "       [ 1.81906322,  1.79866228,  0.        ],\n",
       "       [ 2.11373675,  1.59689834,  0.        ],\n",
       "       [ 1.90780201,  2.30597721,  0.        ],\n",
       "       [ 1.97559506,  1.97754517,  0.        ],\n",
       "       [ 2.15475722,  2.14371346,  0.        ],\n",
       "       [ 1.7883145 ,  1.86970235,  0.        ],\n",
       "       [ 1.82360235,  2.04265247,  0.        ],\n",
       "       [ 2.09612834,  1.90390306,  0.        ],\n",
       "       [ 1.92300766,  1.85086044,  0.        ],\n",
       "       [ 1.87330555,  2.04615544,  0.        ],\n",
       "       [ 1.94094533,  2.31946991,  0.        ],\n",
       "       [ 2.14775556,  2.23681787,  0.        ],\n",
       "       [ 2.39379572,  1.87406458,  0.        ],\n",
       "       [ 2.36318566,  2.26202909,  0.        ],\n",
       "       [ 2.0597989 ,  2.06278177,  0.        ],\n",
       "       [ 2.30183716,  2.1249476 ,  0.        ],\n",
       "       [ 2.18068912,  1.81264076,  0.        ],\n",
       "       [ 1.88750719,  2.27283731,  0.        ],\n",
       "       [ 1.65812455,  1.77693234,  0.        ],\n",
       "       [ 1.89846566,  1.88882247,  0.        ],\n",
       "       [ 1.52337066,  1.9331124 ,  0.        ],\n",
       "       [ 1.97155987,  2.08485234,  0.        ],\n",
       "       [ 1.85306255,  1.94882719,  0.        ],\n",
       "       [ 1.94060692,  2.20428601,  0.        ],\n",
       "       [ 1.86119914,  1.81263816,  0.        ],\n",
       "       [ 1.79824429,  1.98764797,  0.        ],\n",
       "       [ 2.09540004,  1.77487122,  0.        ],\n",
       "       [ 2.39916043,  1.97488459,  0.        ],\n",
       "       [ 2.10625284,  2.14041509,  0.        ],\n",
       "       [ 1.84512087,  2.01696952,  0.        ],\n",
       "       [ 1.98298281,  1.87303473,  0.        ],\n",
       "       [ 2.01317702,  1.76532694,  0.        ],\n",
       "       [ 1.77687018,  1.96462616,  0.        ],\n",
       "       [ 1.95286483,  2.15633573,  0.        ],\n",
       "       [ 1.71913247,  1.64501691,  0.        ],\n",
       "       [ 1.92961722,  1.99450156,  0.        ],\n",
       "       [ 1.95244826,  1.96663563,  0.        ],\n",
       "       [ 2.21314685,  1.99848082,  0.        ],\n",
       "       [ 1.72684539,  2.02584451,  0.        ],\n",
       "       [ 2.04010859,  1.97848318,  0.        ],\n",
       "       [ 2.37900668,  2.27701032,  0.        ],\n",
       "       [ 1.94192205,  1.8425252 ,  0.        ],\n",
       "       [ 1.88558438,  1.84102345,  0.        ],\n",
       "       [-2.85037087, -1.86448533,  0.        ],\n",
       "       [-2.59504867, -1.86975724,  0.        ],\n",
       "       [-2.43136502, -2.3177358 ,  0.        ],\n",
       "       [-2.71649612, -2.49420662,  0.        ],\n",
       "       [-1.83739389, -2.15224906,  0.        ],\n",
       "       [-1.69816576, -0.62591002,  1.        ],\n",
       "       [-2.64049148, -1.62680237,  0.        ],\n",
       "       [-1.37762745, -2.72971017,  0.        ],\n",
       "       [-1.92668588, -2.03652983,  0.        ],\n",
       "       [-1.80786937, -1.09852467,  0.        ],\n",
       "       [-1.72251043, -2.19523546,  0.        ],\n",
       "       [-2.1669804 , -2.37339   ,  0.        ],\n",
       "       [-1.79505139, -1.23922514,  0.        ],\n",
       "       [-2.08858709, -1.49857582,  0.        ],\n",
       "       [-2.74985607, -2.09878956,  0.        ],\n",
       "       [-2.21806603, -1.95355608,  0.        ],\n",
       "       [-2.06107844, -1.88201937,  0.        ],\n",
       "       [-2.83124811, -1.83577187,  0.        ],\n",
       "       [-2.01568203, -1.43279171,  0.        ],\n",
       "       [-2.39610975, -1.61463305,  0.        ],\n",
       "       [-1.37824874, -1.80340049,  0.        ],\n",
       "       [-1.98346016, -1.76574173,  0.        ],\n",
       "       [-1.89063805, -1.32600842,  0.        ],\n",
       "       [-1.44619791, -1.95816788,  0.        ],\n",
       "       [-2.81237249, -2.44711647,  0.        ],\n",
       "       [-1.78733763, -1.96727123,  0.        ],\n",
       "       [-2.27893084, -3.51517813,  0.        ],\n",
       "       [-2.54623553, -0.93700259,  0.        ],\n",
       "       [-2.48213336, -1.58038032,  0.        ],\n",
       "       [-2.47953643, -2.91514812,  0.        ],\n",
       "       [-2.48595243, -1.57563796,  0.        ],\n",
       "       [-1.95433612, -1.86284569,  0.        ],\n",
       "       [-2.30416509, -1.92164678,  0.        ],\n",
       "       [-1.86371691, -2.02305145,  0.        ],\n",
       "       [-2.32200717, -2.87728791,  0.        ],\n",
       "       [-1.57582999, -1.83363819,  0.        ],\n",
       "       [-2.08709777, -2.82435567,  0.        ],\n",
       "       [-1.26950702, -2.66215495,  0.        ],\n",
       "       [-1.67417096, -1.84546408,  0.        ],\n",
       "       [-2.79783983, -2.02163453,  0.        ],\n",
       "       [-0.89729537, -2.08973055,  0.        ],\n",
       "       [-2.68627816, -2.22946143,  0.        ],\n",
       "       [-2.11641303, -1.7176238 ,  0.        ],\n",
       "       [-1.65640996, -2.34305618,  0.        ],\n",
       "       [-2.45834754, -1.6881108 ,  0.        ],\n",
       "       [-1.22961837, -2.80312208,  0.        ],\n",
       "       [-2.02640736, -1.48122933,  0.        ],\n",
       "       [-2.82491226, -2.09726024,  0.        ],\n",
       "       [-1.34118729, -1.75017201,  0.        ],\n",
       "       [-2.42470516, -1.46573349,  0.        ],\n",
       "       [-0.99490773, -1.54934308,  0.        ],\n",
       "       [-1.38330801, -1.79121793,  0.        ],\n",
       "       [-1.97505487, -2.95467806,  0.        ],\n",
       "       [-1.777153  , -1.27662032,  0.        ],\n",
       "       [-2.82789529, -2.58181051,  0.        ],\n",
       "       [-2.44031425, -1.96834334,  0.        ],\n",
       "       [-2.28021191, -1.75133259,  0.        ],\n",
       "       [-2.05205527, -2.58939246,  0.        ],\n",
       "       [-1.54389072, -2.06989828,  0.        ],\n",
       "       [-1.71466976, -3.58438786,  0.        ],\n",
       "       [-2.25715891, -2.63603508,  0.        ],\n",
       "       [-2.17660389, -1.23946049,  0.        ],\n",
       "       [-1.84673292, -1.90805985,  0.        ],\n",
       "       [-2.40596327, -1.80477213,  0.        ],\n",
       "       [-1.15216567, -1.23445326,  0.        ],\n",
       "       [-2.70159917, -1.77759849,  0.        ],\n",
       "       [-1.59654516, -1.29133085,  0.        ],\n",
       "       [-2.36383092, -2.71946078,  0.        ],\n",
       "       [-1.76610538, -2.12174101,  0.        ],\n",
       "       [-2.02462546, -2.85312459,  0.        ],\n",
       "       [-2.07970853, -1.75653992,  0.        ],\n",
       "       [-1.66208987, -2.92277175,  0.        ],\n",
       "       [-2.40325977, -1.73771074,  0.        ],\n",
       "       [-2.13043597, -2.11582564,  0.        ],\n",
       "       [-1.52803733, -2.75266457,  0.        ],\n",
       "       [-2.27407974, -1.37071082,  0.        ],\n",
       "       [-2.46377253, -2.40921925,  0.        ],\n",
       "       [-1.64019537, -2.76205013,  0.        ],\n",
       "       [-2.35590996, -1.79801144,  0.        ],\n",
       "       [-2.01108517, -2.22252512,  0.        ],\n",
       "       [-2.14936422, -2.30345004,  0.        ],\n",
       "       [-1.29090641, -2.46664222,  0.        ],\n",
       "       [-2.23640659, -1.44756018,  0.        ],\n",
       "       [-2.18903925, -1.74475457,  0.        ],\n",
       "       [-2.80095867, -2.6372558 ,  0.        ],\n",
       "       [-0.70576283, -1.59219052,  0.        ],\n",
       "       [-2.38498455, -2.32609491,  0.        ],\n",
       "       [-1.858078  , -1.48942831,  0.        ],\n",
       "       [-3.16856316, -2.29614882,  0.        ],\n",
       "       [-1.59762289, -2.40484662,  0.        ],\n",
       "       [-0.84121798, -1.57311925,  0.        ],\n",
       "       [-2.35903075, -1.71190542,  0.        ],\n",
       "       [-1.63636721, -1.5618059 ,  0.        ],\n",
       "       [-2.37841573, -2.13745158,  0.        ],\n",
       "       [-2.65427014, -2.24843634,  0.        ],\n",
       "       [-2.65328175, -2.65425126,  0.        ],\n",
       "       [-0.9247009 , -1.43456119,  0.        ],\n",
       "       [-2.09665219, -2.51036122,  0.        ],\n",
       "       [-2.6244208 , -2.16566422,  0.        ],\n",
       "       [-1.81011081, -1.64913849,  0.        ],\n",
       "       [ 1.7009103 ,  2.62723641,  0.        ],\n",
       "       [ 3.0283787 ,  0.63705072,  0.        ],\n",
       "       [ 2.20120906,  2.67284436,  0.        ],\n",
       "       [ 2.13006573,  3.59838412,  0.        ],\n",
       "       [ 0.09545748, -2.75578673,  0.        ],\n",
       "       [-1.08227979,  3.78988275,  0.        ],\n",
       "       [ 2.8358146 ,  3.70532146,  0.        ],\n",
       "       [ 2.12338142,  2.53235092,  0.        ],\n",
       "       [-2.75879005,  0.50836407,  0.        ],\n",
       "       [-1.81536606,  0.50073075,  0.        ],\n",
       "       [ 2.5785346 , -0.99128854,  0.        ],\n",
       "       [ 3.2089958 ,  1.29059671,  0.        ],\n",
       "       [-2.63343897, -3.62811811,  0.        ],\n",
       "       [ 1.94057451, -0.57387495,  0.        ],\n",
       "       [-2.11236443,  1.18621921,  0.        ],\n",
       "       [ 1.26068333,  1.96438381,  0.        ],\n",
       "       [ 0.09243366, -2.72103456,  0.        ],\n",
       "       [-3.14878511,  3.65961189,  0.        ],\n",
       "       [-1.12421921, -1.59313047,  1.        ],\n",
       "       [-0.62874079, -1.69632662,  1.        ]])"
      ]
     },
     "execution_count": 8,
     "metadata": {},
     "output_type": "execute_result"
    }
   ],
   "source": [
    "# 找出构造离群值与实际离群值不同的点\n",
    "n_errors = y_pred != ground_truth\n",
    "X_pred = np.c_[X,n_errors]\n",
    "X_pred"
   ]
  },
  {
   "cell_type": "code",
   "execution_count": 9,
   "metadata": {
    "ExecuteTime": {
     "end_time": "2021-01-23T09:40:27.713360Z",
     "start_time": "2021-01-23T09:40:27.368414Z"
    }
   },
   "outputs": [
    {
     "data": {
      "text/html": [
       "<div>\n",
       "<style scoped>\n",
       "    .dataframe tbody tr th:only-of-type {\n",
       "        vertical-align: middle;\n",
       "    }\n",
       "\n",
       "    .dataframe tbody tr th {\n",
       "        vertical-align: top;\n",
       "    }\n",
       "\n",
       "    .dataframe thead th {\n",
       "        text-align: right;\n",
       "    }\n",
       "</style>\n",
       "<table border=\"1\" class=\"dataframe\">\n",
       "  <thead>\n",
       "    <tr style=\"text-align: right;\">\n",
       "      <th></th>\n",
       "      <th>x</th>\n",
       "      <th>y</th>\n",
       "      <th>pred</th>\n",
       "      <th>scores</th>\n",
       "    </tr>\n",
       "  </thead>\n",
       "  <tbody>\n",
       "    <tr>\n",
       "      <th>0</th>\n",
       "      <td>1.913701</td>\n",
       "      <td>2.087875</td>\n",
       "      <td>0.0</td>\n",
       "      <td>0.000494</td>\n",
       "    </tr>\n",
       "    <tr>\n",
       "      <th>1</th>\n",
       "      <td>1.999748</td>\n",
       "      <td>2.212225</td>\n",
       "      <td>0.0</td>\n",
       "      <td>0.005255</td>\n",
       "    </tr>\n",
       "    <tr>\n",
       "      <th>2</th>\n",
       "      <td>2.040673</td>\n",
       "      <td>2.133115</td>\n",
       "      <td>0.0</td>\n",
       "      <td>0.001521</td>\n",
       "    </tr>\n",
       "    <tr>\n",
       "      <th>3</th>\n",
       "      <td>1.791277</td>\n",
       "      <td>1.743218</td>\n",
       "      <td>0.0</td>\n",
       "      <td>0.015652</td>\n",
       "    </tr>\n",
       "    <tr>\n",
       "      <th>4</th>\n",
       "      <td>1.991693</td>\n",
       "      <td>1.770405</td>\n",
       "      <td>0.0</td>\n",
       "      <td>0.010113</td>\n",
       "    </tr>\n",
       "  </tbody>\n",
       "</table>\n",
       "</div>"
      ],
      "text/plain": [
       "          x         y  pred    scores\n",
       "0  1.913701  2.087875   0.0  0.000494\n",
       "1  1.999748  2.212225   0.0  0.005255\n",
       "2  2.040673  2.133115   0.0  0.001521\n",
       "3  1.791277  1.743218   0.0  0.015652\n",
       "4  1.991693  1.770405   0.0  0.010113"
      ]
     },
     "execution_count": 9,
     "metadata": {},
     "output_type": "execute_result"
    }
   ],
   "source": [
    "X_scores = clf.negative_outlier_factor_\n",
    "# 实际离群值有正有负，转化为正数并保留其差异性（不是直接取绝对值）\n",
    "X_scores_nor = (X_scores.max() - X_scores) / (X_scores.max() - X_scores.min())\n",
    "X_pred = np.c_[X_pred,X_scores_nor]\n",
    "X_pred = pd.DataFrame(X_pred,columns=['x','y','pred','scores'])\n",
    "X_pred_same = X_pred[X_pred['pred'] == False]\n",
    "X_pred_different = X_pred[X_pred['pred'] == True]\n",
    "\n",
    "# 直观地看⼀看数据\n",
    "X_pred.head()"
   ]
  },
  {
   "cell_type": "code",
   "execution_count": 14,
   "metadata": {
    "ExecuteTime": {
     "end_time": "2021-01-23T09:50:03.194058Z",
     "start_time": "2021-01-23T09:50:01.563310Z"
    }
   },
   "outputs": [
    {
     "name": "stderr",
     "output_type": "stream",
     "text": [
      "C:\\Users\\shepherd\\anaconda3\\lib\\site-packages\\matplotlib\\backends\\backend_agg.py:214: RuntimeWarning: Glyph 12070 missing from current font.\n",
      "  font.set_text(s, 0.0, flags=flags)\n",
      "C:\\Users\\shepherd\\anaconda3\\lib\\site-packages\\matplotlib\\backends\\backend_agg.py:183: RuntimeWarning: Glyph 12070 missing from current font.\n",
      "  font.set_text(s, 0, flags=flags)\n"
     ]
    },
    {
     "data": {
      "image/png": "[encoded data removed]",
      "text/plain": [
       "<Figure size 432x288 with 1 Axes>"
      ]
     },
     "metadata": {
      "needs_background": "light"
     },
     "output_type": "display_data"
    }
   ],
   "source": [
    "plt.rcParams['font.sans-serif']=['SimHei'] ## 这句设置默认字体的不奏效了\n",
    "plt.rcParams['axes.unicode_minus']=False\n",
    "\n",
    "plt.title('局部离群因⼦检测 (LOF)')\n",
    "plt.scatter(X[:-n_outliers, 0], X[:-n_outliers, 1], color='b', s=5, label='集群点')\n",
    "plt.scatter(X[-n_outliers:, 0], X[-n_outliers:, 1], color='orange', s=5, label='离群点')\n",
    "# 以标准化之后的局部离群值为半径画圆，以圆的⼤小直观表⽰出每个数据点的离群程度\n",
    "plt.scatter(X_pred_same.values[:,0], X_pred_same.values[:, 1], s=1000 * X_pred_same.values[:, 3],\n",
    "            edgecolors='c', facecolors='none', label='标签相同') ## '标签一致无法显示'\n",
    "plt.scatter(X_pred_different.values[:, 0], X_pred_different.values[:, 1], s=1000 * X_pred_different.values[:, 3],\n",
    "            edgecolors='violet', facecolors='none', label='标签不同')\n",
    "\n",
    "plt.axis('tight')\n",
    "plt.xlim((-5, 5))\n",
    "plt.ylim((-5, 5))\n",
    "legend = plt.legend(loc='upper left')\n",
    "legend.legendHandles[0]._sizes = [10]\n",
    "legend.legendHandles[1]._sizes = [20]\n",
    "plt.show()       "
   ]
  },
  {
   "cell_type": "code",
   "execution_count": null,
   "metadata": {},
   "outputs": [],
   "source": []
  }
 ],
 "metadata": {
  "hide_input": false,
  "kernelspec": {
   "display_name": "Python 3",
   "language": "python",
   "name": "python3"
  },
  "language_info": {
   "codemirror_mode": {
    "name": "ipython",
    "version": 3
   },
   "file_extension": ".py",
   "mimetype": "text/x-python",
   "name": "python",
   "nbconvert_exporter": "python",
   "pygments_lexer": "ipython3",
   "version": "3.8.3"
  },
  "varInspector": {
   "cols": {
    "lenName": 16,
    "lenType": 16,
    "lenVar": 40
   },
   "kernels_config": {
    "python": {
     "delete_cmd_postfix": "",
     "delete_cmd_prefix": "del ",
     "library": "var_list.py",
     "varRefreshCmd": "print(var_dic_list())"
    },
    "r": {
     "delete_cmd_postfix": ") ",
     "delete_cmd_prefix": "rm(",
     "library": "var_list.r",
     "varRefreshCmd": "cat(var_dic_list()) "
    }
   },
   "types_to_exclude": [
    "module",
    "function",
    "builtin_function_or_method",
    "instance",
    "_Feature"
   ],
   "window_display": false
  }
 },
 "nbformat": 4,
 "nbformat_minor": 4
}
